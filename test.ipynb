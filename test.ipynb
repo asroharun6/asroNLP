{
 "cells": [
  {
   "cell_type": "code",
   "execution_count": 1,
   "metadata": {},
   "outputs": [
    {
     "name": "stdout",
     "output_type": "stream",
     "text": [
      "Collecting AsroNLP==0.1.3\n",
      "  Downloading AsroNLP-0.1.3-py3-none-any.whl.metadata (1.8 kB)\n",
      "Requirement already satisfied: pandas in c:\\users\\python\\appdata\\local\\programs\\python\\python312\\lib\\site-packages (from AsroNLP==0.1.3) (2.2.2)\n",
      "Requirement already satisfied: nltk in c:\\users\\python\\appdata\\local\\programs\\python\\python312\\lib\\site-packages (from AsroNLP==0.1.3) (3.8.1)\n",
      "Requirement already satisfied: openpyxl in c:\\users\\python\\appdata\\local\\programs\\python\\python312\\lib\\site-packages (from AsroNLP==0.1.3) (3.1.5)\n",
      "Requirement already satisfied: click in c:\\users\\python\\appdata\\local\\programs\\python\\python312\\lib\\site-packages (from nltk->AsroNLP==0.1.3) (8.1.7)\n",
      "Requirement already satisfied: joblib in c:\\users\\python\\appdata\\local\\programs\\python\\python312\\lib\\site-packages (from nltk->AsroNLP==0.1.3) (1.4.0)\n",
      "Requirement already satisfied: regex>=2021.8.3 in c:\\users\\python\\appdata\\local\\programs\\python\\python312\\lib\\site-packages (from nltk->AsroNLP==0.1.3) (2023.12.25)\n",
      "Requirement already satisfied: tqdm in c:\\users\\python\\appdata\\local\\programs\\python\\python312\\lib\\site-packages (from nltk->AsroNLP==0.1.3) (4.66.2)\n",
      "Requirement already satisfied: et-xmlfile in c:\\users\\python\\appdata\\local\\programs\\python\\python312\\lib\\site-packages (from openpyxl->AsroNLP==0.1.3) (1.1.0)\n",
      "Requirement already satisfied: numpy>=1.26.0 in c:\\users\\python\\appdata\\local\\programs\\python\\python312\\lib\\site-packages (from pandas->AsroNLP==0.1.3) (1.26.4)\n",
      "Requirement already satisfied: python-dateutil>=2.8.2 in c:\\users\\python\\appdata\\roaming\\python\\python312\\site-packages (from pandas->AsroNLP==0.1.3) (2.9.0.post0)\n",
      "Requirement already satisfied: pytz>=2020.1 in c:\\users\\python\\appdata\\local\\programs\\python\\python312\\lib\\site-packages (from pandas->AsroNLP==0.1.3) (2024.1)\n",
      "Requirement already satisfied: tzdata>=2022.7 in c:\\users\\python\\appdata\\local\\programs\\python\\python312\\lib\\site-packages (from pandas->AsroNLP==0.1.3) (2023.4)\n",
      "Requirement already satisfied: six>=1.5 in c:\\users\\python\\appdata\\roaming\\python\\python312\\site-packages (from python-dateutil>=2.8.2->pandas->AsroNLP==0.1.3) (1.16.0)\n",
      "Requirement already satisfied: colorama in c:\\users\\python\\appdata\\local\\programs\\python\\python312\\lib\\site-packages (from click->nltk->AsroNLP==0.1.3) (0.4.6)\n",
      "Downloading AsroNLP-0.1.3-py3-none-any.whl (487 kB)\n",
      "Installing collected packages: AsroNLP\n",
      "  Attempting uninstall: AsroNLP\n",
      "    Found existing installation: AsroNLP 0.1.2\n",
      "    Uninstalling AsroNLP-0.1.2:\n",
      "      Successfully uninstalled AsroNLP-0.1.2\n",
      "Successfully installed AsroNLP-0.1.3\n",
      "Note: you may need to restart the kernel to use updated packages.\n"
     ]
    },
    {
     "name": "stderr",
     "output_type": "stream",
     "text": [
      "\n",
      "[notice] A new release of pip is available: 25.0 -> 25.0.1\n",
      "[notice] To update, run: python.exe -m pip install --upgrade pip\n"
     ]
    }
   ],
   "source": [
    "pip install AsroNLP==0.1.3"
   ]
  },
  {
   "cell_type": "code",
   "execution_count": 2,
   "metadata": {},
   "outputs": [
    {
     "name": "stdout",
     "output_type": "stream",
     "text": [
      "Name: AsroNLP\n",
      "Version: 0.1.3\n",
      "Summary: A Python library for text preprocessing, stemming, and sentiment analysis in Bahasa Indonesia.\n",
      "Home-page: https://github.com/asroharun6/AsroNLP\n",
      "Author: Asro\n",
      "Author-email: asro@raharja.info\n",
      "License: \n",
      "Location: c:\\Users\\python\\AppData\\Local\\Programs\\Python\\Python312\\Lib\\site-packages\n",
      "Requires: nltk, openpyxl, pandas\n",
      "Required-by: \n",
      "Note: you may need to restart the kernel to use updated packages.\n"
     ]
    }
   ],
   "source": [
    "pip show AsroNLP"
   ]
  },
  {
   "cell_type": "code",
   "execution_count": 8,
   "metadata": {},
   "outputs": [
    {
     "name": "stderr",
     "output_type": "stream",
     "text": [
      "c:\\Users\\python\\Desktop\\S3\\AsroNLP\\asro_nlp\\nlp.py:52: FutureWarning: Series.__getitem__ treating keys as positions is deprecated. In a future version, integer keys will always be treated as labels (consistent with DataFrame behavior). To access a value by position, use `ser.iloc[pos]`\n",
      "  self.lexicon_positive_dict = {row[0].lower(): row[1] for index, row in self.lexicon_positive.iterrows()}\n",
      "c:\\Users\\python\\Desktop\\S3\\AsroNLP\\asro_nlp\\nlp.py:55: FutureWarning: Series.__getitem__ treating keys as positions is deprecated. In a future version, integer keys will always be treated as labels (consistent with DataFrame behavior). To access a value by position, use `ser.iloc[pos]`\n",
      "  self.lexicon_negative_dict = {row[0].lower(): row[1] for index, row in self.lexicon_negative.iterrows()}\n"
     ]
    },
    {
     "name": "stdout",
     "output_type": "stream",
     "text": [
      "Processed data with sentiment analysis saved to output_sentiment.xlsx\n",
      "                                             comment    channel_title  \\\n",
      "0  Madrasah Aliyah Negeri Insan Cendekia ini eksp...  Strategi_Bisnis   \n",
      "1  Kritik keras pada konsep pendidikan 'REWARD &a...       RagilSemar   \n",
      "2  Menjembatani Ketimpangan: Peran Teknologi dala...     dian_arifiya   \n",
      "3  Validasi dan pemadanan Data Tunggal Sosial Eko...       KemensosRI   \n",
      "4  Dalam naskah akademik Kurikulum Merdeka dorong...       zanatul_91   \n",
      "\n",
      "                                        Case_Folding  \\\n",
      "0  madrasah aliyah negeri insan cendekia ini eksp...   \n",
      "1  kritik keras pada konsep pendidikan 'reward &a...   \n",
      "2  menjembatani ketimpangan: peran teknologi dala...   \n",
      "3  validasi dan pemadanan data tunggal sosial eko...   \n",
      "4  dalam naskah akademik kurikulum merdeka dorong...   \n",
      "\n",
      "                                        Cleaned_Text  \\\n",
      "0  madrasah aliyah negeri insan cendekia ini eksp...   \n",
      "1  kritik keras pada konsep pendidikan  reward  a...   \n",
      "2  menjembatani ketimpangan  peran teknologi dala...   \n",
      "3  validasi dan pemadanan data tunggal sosial eko...   \n",
      "4  dalam naskah akademik kurikulum merdeka dorong...   \n",
      "\n",
      "                                     Text_Tokenizing  \\\n",
      "0  [madrasah, aliyah, negeri, insan, cendekia, in...   \n",
      "1  [kritik, keras, pada, konsep, pendidikan, rewa...   \n",
      "2  [menjembatani, ketimpangan, peran, teknologi, ...   \n",
      "3  [validasi, dan, pemadanan, data, tunggal, sosi...   \n",
      "4  [dalam, naskah, akademik, kurikulum, merdeka, ...   \n",
      "\n",
      "                                       Filtered_Text  \\\n",
      "0  [madrasah, aliyah, negeri, insan, cendekia, ek...   \n",
      "1  [kritik, keras, konsep, pendidikan, reward, am...   \n",
      "2  [menjembatani, ketimpangan, peran, teknologi, ...   \n",
      "3  [validasi, pemadanan, data, tunggal, sosial, e...   \n",
      "4  [naskah, akademik, kurikulum, merdeka, doronga...   \n",
      "\n",
      "                                     Normalized_Text  Is_Media  \\\n",
      "0  [madrasah, aliyah, negeri, insan, cendekia, ek...     False   \n",
      "1  [kritik, keras, konsep, pendidikan, reward, am...     False   \n",
      "2  [menjembatani, ketimpangan, peran, teknologi, ...     False   \n",
      "3  [validasi, pemadanan, data, tunggal, sosial, e...     False   \n",
      "4  [naskah, akademik, kurikulum, merdeka, doronga...      True   \n",
      "\n",
      "                                        Stemmed_Text  PolarityScore Sentiment  \n",
      "0  [madrasah, aliyah, negeri, insan, cendekia, ek...             47  Positive  \n",
      "1  [kritik, keras, konsep, pendidikan, reward, am...             43  Positive  \n",
      "2  [menjembatani, ketimpangan, peran, teknologi, ...             35  Positive  \n",
      "3  [validasi, pemadanan, data, tunggal, sosial, e...             33  Positive  \n",
      "4  [naskah, akademik, kurikulum, merdeka, doronga...             20  Positive  \n"
     ]
    }
   ],
   "source": [
    "from asro_nlp import AsroNLP  # Adjust the import statement according to your file and class name\n",
    "\n",
    "def main():\n",
    "    # Create an instance of AsroNLP\n",
    "    nlp_processor = AsroNLP()\n",
    "\n",
    "    # Define the path to your input Excel file\n",
    "    input_path = 'dataset.xlsx'  # Update this path as needed\n",
    "\n",
    "    # Define the output file path\n",
    "    output_path = 'output.xlsx'  # This will be the path for the processed data\n",
    "\n",
    "    # Run the preprocessing and analysis function\n",
    "    result_df = nlp_processor.preprocess_and_optionally_stem_and_analyze(input_path, output_path=output_path)\n",
    "\n",
    "    # Optionally, print or handle the result DataFrame\n",
    "    if result_df is not None:\n",
    "        print(result_df.head())  # Preview the first few rows of the processed DataFrame\n",
    "\n",
    "if __name__ == \"__main__\":\n",
    "    main()\n"
   ]
  }
 ],
 "metadata": {
  "kernelspec": {
   "display_name": "Python 3",
   "language": "python",
   "name": "python3"
  },
  "language_info": {
   "codemirror_mode": {
    "name": "ipython",
    "version": 3
   },
   "file_extension": ".py",
   "mimetype": "text/x-python",
   "name": "python",
   "nbconvert_exporter": "python",
   "pygments_lexer": "ipython3",
   "version": "3.12.5"
  }
 },
 "nbformat": 4,
 "nbformat_minor": 2
}
